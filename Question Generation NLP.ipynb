{
 "cells": [
  {
   "cell_type": "code",
   "execution_count": 31,
   "id": "4667113f",
   "metadata": {},
   "outputs": [
    {
     "name": "stderr",
     "output_type": "stream",
     "text": [
      "Global seed set to 42\n"
     ]
    }
   ],
   "source": [
    "import nltk\n",
    "from nltk.corpus import wordnet as wn\n",
    "from sense2vec import Sense2Vec\n",
    "from collections import OrderedDict\n",
    "from similarity.normalized_levenshtein import NormalizedLevenshtein\n",
    "import string\n",
    "from string import punctuation\n",
    "import random\n",
    "import re\n",
    "import nltk\n",
    "import itertools\n",
    "import pke\n",
    "from nltk.corpus import stopwords\n",
    "from nltk.corpus import wordnet\n",
    "import traceback\n",
    "from nltk.tokenize import sent_tokenize\n",
    "from flashtext import KeywordProcessor\n",
    "import pandas as pd\n",
    "import numpy as np\n",
    "import torch\n",
    "from torch.utils.data import Dataset, DataLoader\n",
    "import pytorch_lightning as pl\n",
    "pl.seed_everything(42)\n",
    "from tqdm import tqdm\n",
    "import copy\n",
    "from transformers import AdamW,T5ForConditionalGeneration,T5Tokenizer,get_linear_schedule_with_warmup"
   ]
  },
  {
   "cell_type": "markdown",
   "id": "fe10968c",
   "metadata": {},
   "source": [
    "### Distractor Generate"
   ]
  },
  {
   "cell_type": "code",
   "execution_count": 2,
   "id": "48699c1e",
   "metadata": {},
   "outputs": [],
   "source": [
    "s2v = Sense2Vec().from_disk('s2v_old')"
   ]
  },
  {
   "cell_type": "code",
   "execution_count": 3,
   "id": "13a1bb9c",
   "metadata": {},
   "outputs": [],
   "source": [
    "class Distractors:\n",
    "    def __init__(self,word,s2v):\n",
    "        self.output = []\n",
    "        self.word = word.lower()\n",
    "        self.word = word.replace(\" \", \"_\")\n",
    "        sense = s2v.get_best_sense(self.word)\n",
    "        self.most_similar = s2v.most_similar(sense, n=20)\n",
    "        self.threshold = 0.7\n",
    "    \n",
    "    def __noise__(self):\n",
    "        \"All edits that are one edit away from `word`.\"\n",
    "        self.letters    = 'abcdefghijklmnopqrstuvwxyz '+string.punctuation\n",
    "        self.splits     = [(self.word[:i], self.word[i:])    for i in range(len(self.word) + 1)]\n",
    "        self.deletes    = [L + R[1:]               for L, R in self.splits if R]\n",
    "        self.transposes = [L + R[1] + R[0] + R[2:] for L, R in self.splits if len(R)>1]\n",
    "        self.replaces   = [L + c + R[1:]           for L, R in self.splits if R for c in self.letters]\n",
    "        self.inserts    = [L + c + R               for L, R in self.splits for c in self.letters]\n",
    "        return set(self.deletes + self.transposes + self.replaces + self.inserts)\n",
    "    \n",
    "    def __generate_distractors__(self):\n",
    "        for each_word in self.most_similar:\n",
    "            self.append_word = each_word[0].split(\"|\")[0].replace(\"_\", \" \").lower()\n",
    "            if len(self.append_word.split())>1:\n",
    "                self.append_word=' '.join([self.append_word.title().split()[0],self.append_word.title().split()[-1]])\n",
    "            if self.append_word.lower() != self.word and self.append_word.title() not in self.output:\n",
    "                self.output.append(self.append_word.title())\n",
    "        return list(OrderedDict.fromkeys(self.output))\n",
    "        \n",
    "        \n",
    "    def find_all_distractors(self):\n",
    "        normalized_levenshtein = NormalizedLevenshtein()\n",
    "        self.all_edits = self.__noise__()\n",
    "        self.out=self.__generate_distractors__()\n",
    "        self.filtered_distractors_edit_distance = [x for x in self.out if x.lower() not in self.all_edits]\n",
    "        self.filtered_distractors_edit_distance_and_levenshtein_distance =[x for x in self.filtered_distractors_edit_distance if normalized_levenshtein.distance(x.lower(),self.word.lower())>self.threshold]\n",
    "        #self.output = self.filtered_distractors_edit_distance_and_levenshtein_distance[0][:4]+[self.word]\n",
    "        #return random.sample(self.output,len(self.output))\n",
    "        return self.filtered_distractors_edit_distance_and_levenshtein_distance[:4]"
   ]
  },
  {
   "cell_type": "code",
   "execution_count": 4,
   "id": "6458b6b8",
   "metadata": {},
   "outputs": [],
   "source": [
    "word='India'\n",
    "distractors=Distractors(word,s2v)\n",
    "options=distractors.find_all_distractors()"
   ]
  },
  {
   "cell_type": "markdown",
   "id": "a304cc1d",
   "metadata": {},
   "source": [
    "### Fill in the Blanks Generate"
   ]
  },
  {
   "cell_type": "code",
   "execution_count": 5,
   "id": "8cb881a3",
   "metadata": {},
   "outputs": [],
   "source": [
    "class FIB:\n",
    "    \n",
    "    def __init__(self,path):\n",
    "        \n",
    "        self._noun_adj_verb_=[]\n",
    "        self.pos = {'VERB', 'ADJ', 'NOUN'}\n",
    "        self.doc=open(path,mode='r').readlines()\n",
    "        self.doc=[re.sub('\\n','',i.strip()) for i in self.doc]\n",
    "        self.text=''.join(self.doc)\n",
    "        self.sentences = sent_tokenize(open(path,mode='r').read())\n",
    "        self.keyword_sentences = {}\n",
    "        self.stoplist = list(string.punctuation)\n",
    "        self.stoplist += ['-lrb-', '-rrb-', '-lcb-', '-rcb-', '-lsb-', '-rsb-']\n",
    "        self.stoplist += stopwords.words('english')\n",
    "        self.blank_sentences = []\n",
    "        self.processed = []\n",
    "        self.keys=[]\n",
    "        self.df=pd.DataFrame()\n",
    "        \n",
    "    def get_noun_adj_verb(self):\n",
    "        try:\n",
    "            extractor = pke.unsupervised.MultipartiteRank()\n",
    "            extractor.load_document(input=self.text)\n",
    "            extractor.candidate_selection(pos=self.pos, stoplist=self.stoplist)\n",
    "            extractor.candidate_weighting(alpha=1.1,\n",
    "                                      threshold=0.75,\n",
    "                                      method='average')\n",
    "            self.keyphrases = extractor.get_n_best(n=30)\n",
    "            for val in self.keyphrases:\n",
    "                self._noun_adj_verb_.append(val[0])\n",
    "        except:\n",
    "            self._noun_adj_verb_ = []\n",
    "            traceback.print_exc()\n",
    "        return self._noun_adj_verb_\n",
    "    \n",
    "    def get_sentences_for_keyword(self):\n",
    "        self.keywords=self.get_noun_adj_verb()\n",
    "        keyword_processor = KeywordProcessor()\n",
    "        for word in self.keywords:\n",
    "            self.keyword_sentences[word] = []\n",
    "            keyword_processor.add_keyword(word)\n",
    "        for sentence in self.sentences:\n",
    "            self.keywords_found = keyword_processor.extract_keywords(sentence)\n",
    "            for key in self.keywords_found:\n",
    "                self.keyword_sentences[key].append(sentence)\n",
    "\n",
    "        for key in self.keyword_sentences.keys():\n",
    "            values = self.keyword_sentences[key]\n",
    "            values = sorted(values, key=len, reverse=True)\n",
    "            self.keyword_sentences[key] = values\n",
    "        return self.keyword_sentences\n",
    "    \n",
    "    def get_fill_in_the_blanks(self):\n",
    "        self.sentence_mapping=self.get_sentences_for_keyword()\n",
    "        for key in self.sentence_mapping:\n",
    "            if len(self.sentence_mapping[key])>0:\n",
    "                sent = self.sentence_mapping[key][0]\n",
    "                # Compile a regular expression pattern into a regular expression object, which can be used for matching and other methods\n",
    "                insensitive_sent = re.compile(re.escape(key), re.IGNORECASE)\n",
    "                no_of_replacements =  len(re.findall(re.escape(key),sent,re.IGNORECASE))\n",
    "                line = insensitive_sent.sub(' _________ ', sent)\n",
    "                if (self.sentence_mapping[key][0] not in self.processed) and no_of_replacements<2:\n",
    "                    self.blank_sentences.append(line)\n",
    "                    self.processed.append(self.sentence_mapping[key][0])\n",
    "                    self.keys.append(key)\n",
    "        self.df[\"Fill in the Blank\"]=self.blank_sentences\n",
    "        self.df[\"Answers\"]=self.keys\n",
    "        return self.df"
   ]
  },
  {
   "cell_type": "code",
   "execution_count": 6,
   "id": "17284383",
   "metadata": {},
   "outputs": [
    {
     "data": {
      "text/html": [
       "<div>\n",
       "<style scoped>\n",
       "    .dataframe tbody tr th:only-of-type {\n",
       "        vertical-align: middle;\n",
       "    }\n",
       "\n",
       "    .dataframe tbody tr th {\n",
       "        vertical-align: top;\n",
       "    }\n",
       "\n",
       "    .dataframe thead th {\n",
       "        text-align: right;\n",
       "    }\n",
       "</style>\n",
       "<table border=\"1\" class=\"dataframe\">\n",
       "  <thead>\n",
       "    <tr style=\"text-align: right;\">\n",
       "      <th></th>\n",
       "      <th>Fill in the Blank</th>\n",
       "      <th>Answers</th>\n",
       "    </tr>\n",
       "  </thead>\n",
       "  <tbody>\n",
       "    <tr>\n",
       "      <th>0</th>\n",
       "      <td>Soon Sunderlal Bahuguna, another social activi...</td>\n",
       "      <td>villagers</td>\n",
       "    </tr>\n",
       "    <tr>\n",
       "      <th>1</th>\n",
       "      <td>The success of the movement led to a fifteen y...</td>\n",
       "      <td>felling</td>\n",
       "    </tr>\n",
       "    <tr>\n",
       "      <th>2</th>\n",
       "      <td>Villagers in Chamoli district of Uttar Pradesh...</td>\n",
       "      <td>protested</td>\n",
       "    </tr>\n",
       "    <tr>\n",
       "      <th>3</th>\n",
       "      <td>In 1974, in a village called Reni, the governm...</td>\n",
       "      <td>women led</td>\n",
       "    </tr>\n",
       "    <tr>\n",
       "      <th>4</th>\n",
       "      <td>In many ways, the Chipko Movement is also cons...</td>\n",
       "      <td>cut</td>\n",
       "    </tr>\n",
       "    <tr>\n",
       "      <th>5</th>\n",
       "      <td>The Chipko  _________  from the Bishnoi commun...</td>\n",
       "      <td>movement draws inspiration</td>\n",
       "    </tr>\n",
       "    <tr>\n",
       "      <th>6</th>\n",
       "      <td>This gesture of villagers gave the  _________ ...</td>\n",
       "      <td>name</td>\n",
       "    </tr>\n",
       "    <tr>\n",
       "      <th>7</th>\n",
       "      <td>In the 18th century, this group of  _________ ...</td>\n",
       "      <td>people</td>\n",
       "    </tr>\n",
       "    <tr>\n",
       "      <th>8</th>\n",
       "      <td>The people of the  _________  understood that ...</td>\n",
       "      <td>community</td>\n",
       "    </tr>\n",
       "    <tr>\n",
       "      <th>9</th>\n",
       "      <td>In 1973, a similar movement took place in Indi...</td>\n",
       "      <td>different purpose</td>\n",
       "    </tr>\n",
       "    <tr>\n",
       "      <th>10</th>\n",
       "      <td>The environmentalist, Chandi Prasad Bhatt, fou...</td>\n",
       "      <td>first</td>\n",
       "    </tr>\n",
       "    <tr>\n",
       "      <th>11</th>\n",
       "      <td>The  _________  later led to a ten year ban on...</td>\n",
       "      <td>event</td>\n",
       "    </tr>\n",
       "  </tbody>\n",
       "</table>\n",
       "</div>"
      ],
      "text/plain": [
       "                                    Fill in the Blank  \\\n",
       "0   Soon Sunderlal Bahuguna, another social activi...   \n",
       "1   The success of the movement led to a fifteen y...   \n",
       "2   Villagers in Chamoli district of Uttar Pradesh...   \n",
       "3   In 1974, in a village called Reni, the governm...   \n",
       "4   In many ways, the Chipko Movement is also cons...   \n",
       "5   The Chipko  _________  from the Bishnoi commun...   \n",
       "6   This gesture of villagers gave the  _________ ...   \n",
       "7   In the 18th century, this group of  _________ ...   \n",
       "8   The people of the  _________  understood that ...   \n",
       "9   In 1973, a similar movement took place in Indi...   \n",
       "10  The environmentalist, Chandi Prasad Bhatt, fou...   \n",
       "11  The  _________  later led to a ten year ban on...   \n",
       "\n",
       "                       Answers  \n",
       "0                    villagers  \n",
       "1                      felling  \n",
       "2                    protested  \n",
       "3                    women led  \n",
       "4                          cut  \n",
       "5   movement draws inspiration  \n",
       "6                         name  \n",
       "7                       people  \n",
       "8                    community  \n",
       "9            different purpose  \n",
       "10                       first  \n",
       "11                       event  "
      ]
     },
     "execution_count": 6,
     "metadata": {},
     "output_type": "execute_result"
    }
   ],
   "source": [
    "listy=FIB('worksheet1.txt').get_fill_in_the_blanks()\n",
    "listy"
   ]
  },
  {
   "cell_type": "markdown",
   "id": "c306b47c",
   "metadata": {},
   "source": [
    "### Fill in the blanks with options"
   ]
  },
  {
   "cell_type": "code",
   "execution_count": 7,
   "id": "654f9539",
   "metadata": {},
   "outputs": [],
   "source": [
    "class FIBMCQ:\n",
    "    \n",
    "    def __init__(self,path):\n",
    "        \n",
    "        self._noun_adj_verb_=[]\n",
    "        self.pos = {'VERB', 'ADJ', 'NOUN'}\n",
    "        self.doc=open(path,mode='r').readlines()\n",
    "        self.doc=[re.sub('\\n','',i.strip()) for i in self.doc]\n",
    "        self.text=''.join(self.doc)\n",
    "        self.sentences = sent_tokenize(open(path,mode='r').read())\n",
    "        self.keyword_sentences = {}\n",
    "        self.stoplist = list(string.punctuation)\n",
    "        self.stoplist += ['-lrb-', '-rrb-', '-lcb-', '-rcb-', '-lsb-', '-rsb-']\n",
    "        self.stoplist += stopwords.words('english')\n",
    "        self.blank_sentences = []\n",
    "        self.processed = []\n",
    "        self.keys=[]\n",
    "        self.option_1=[]\n",
    "        self.option_2=[]\n",
    "        self.option_3=[]\n",
    "        self.option_4=[]\n",
    "        self.df=pd.DataFrame()\n",
    "        \n",
    "    def get_noun_adj_verb(self):\n",
    "        for i in range(len(self.sentences)):\n",
    "            for j in nltk.pos_tag(nltk.word_tokenize(self.sentences[i])):\n",
    "                if j[1][:2]=='NN':\n",
    "                    self._noun_adj_verb_.append(j[0])\n",
    "        try:\n",
    "            extractor = pke.unsupervised.MultipartiteRank()\n",
    "            extractor.load_document(input=self.text)\n",
    "            extractor.candidate_selection(pos=self.pos, stoplist=self.stoplist)\n",
    "            extractor.candidate_weighting(alpha=1.1,\n",
    "                                      threshold=0.75,\n",
    "                                      method='average')\n",
    "            self.keyphrases = extractor.get_n_best(n=30)\n",
    "            for val in self.keyphrases:\n",
    "                if val[0] not in self._noun_adj_verb_:\n",
    "                    self._noun_adj_verb_.append(val[0])\n",
    "        except:\n",
    "            self._noun_adj_verb_ = []\n",
    "            traceback.print_exc()\n",
    "        return self._noun_adj_verb_\n",
    "    \n",
    "    def get_sentences_for_keyword(self):\n",
    "        self.keywords=self.get_noun_adj_verb()\n",
    "        keyword_processor = KeywordProcessor()\n",
    "        for word in self.keywords:\n",
    "            self.keyword_sentences[word] = []\n",
    "            keyword_processor.add_keyword(word)\n",
    "        for sentence in self.sentences:\n",
    "            self.keywords_found = keyword_processor.extract_keywords(sentence)\n",
    "            for key in self.keywords_found:\n",
    "                self.keyword_sentences[key].append(sentence)\n",
    "\n",
    "        for key in self.keyword_sentences.keys():\n",
    "            values = self.keyword_sentences[key]\n",
    "            values = sorted(values, key=len, reverse=True)\n",
    "            self.keyword_sentences[key] = values\n",
    "        return self.keyword_sentences\n",
    "    \n",
    "    def get_fill_in_the_blanks(self):\n",
    "        self.sentence_mapping=self.get_sentences_for_keyword()\n",
    "        for key in self.sentence_mapping:\n",
    "            try:\n",
    "                distractors=Distractors(key,s2v)\n",
    "                self.options=distractors.find_all_distractors()\n",
    "                if len(self.options)==0 or len(self.options)<4:\n",
    "                    raise\n",
    "            except:\n",
    "                continue\n",
    "            if len(self.sentence_mapping[key])>0:\n",
    "                sent = self.sentence_mapping[key][0]\n",
    "                # Compile a regular expression pattern into a regular expression object, which can be used for matching and other methods\n",
    "                insensitive_sent = re.compile(re.escape(key), re.IGNORECASE)\n",
    "                no_of_replacements =  len(re.findall(re.escape(key),sent,re.IGNORECASE))\n",
    "                line = insensitive_sent.sub(' _________ ', sent)\n",
    "                if (self.sentence_mapping[key][0] not in self.processed) and no_of_replacements<2:\n",
    "                    self.blank_sentences.append(line)\n",
    "                    self.processed.append(self.sentence_mapping[key][0])\n",
    "                    self.keys.append(key)\n",
    "                    self.option_1.append(self.options[0])\n",
    "                    self.option_2.append(self.options[1])\n",
    "                    self.option_3.append(self.options[2])\n",
    "                    self.option_4.append(self.options[3])\n",
    "        self.df[\"Fill in the Blank\"]=self.blank_sentences\n",
    "        self.df[\"Answers\"]=self.keys\n",
    "        self.df[\"Option_1\"]=self.option_1\n",
    "        self.df[\"Option_2\"]=self.option_2\n",
    "        self.df[\"Option_3\"]=self.option_3\n",
    "        self.df[\"Option_4\"]=self.option_4\n",
    "        return self.df"
   ]
  },
  {
   "cell_type": "code",
   "execution_count": 8,
   "id": "48e3fbca",
   "metadata": {},
   "outputs": [
    {
     "data": {
      "text/html": [
       "<div>\n",
       "<style scoped>\n",
       "    .dataframe tbody tr th:only-of-type {\n",
       "        vertical-align: middle;\n",
       "    }\n",
       "\n",
       "    .dataframe tbody tr th {\n",
       "        vertical-align: top;\n",
       "    }\n",
       "\n",
       "    .dataframe thead th {\n",
       "        text-align: right;\n",
       "    }\n",
       "</style>\n",
       "<table border=\"1\" class=\"dataframe\">\n",
       "  <thead>\n",
       "    <tr style=\"text-align: right;\">\n",
       "      <th></th>\n",
       "      <th>Fill in the Blank</th>\n",
       "      <th>Answers</th>\n",
       "      <th>Option_1</th>\n",
       "      <th>Option_2</th>\n",
       "      <th>Option_3</th>\n",
       "      <th>Option_4</th>\n",
       "    </tr>\n",
       "  </thead>\n",
       "  <tbody>\n",
       "    <tr>\n",
       "      <th>0</th>\n",
       "      <td>_________  led India to freedom using non-vio...</td>\n",
       "      <td>Gandhiji</td>\n",
       "      <td>Ambedkar</td>\n",
       "      <td>Modi</td>\n",
       "      <td>Kejriwal</td>\n",
       "      <td>Ikeda</td>\n",
       "    </tr>\n",
       "    <tr>\n",
       "      <th>1</th>\n",
       "      <td>In 1973, a similar movement took place in  ___...</td>\n",
       "      <td>India</td>\n",
       "      <td>Bangladesh</td>\n",
       "      <td>Malaysia</td>\n",
       "      <td>Brunei</td>\n",
       "      <td>China</td>\n",
       "    </tr>\n",
       "    <tr>\n",
       "      <th>2</th>\n",
       "      <td>Villagers in Chamoli  _________  of Uttar Prad...</td>\n",
       "      <td>district</td>\n",
       "      <td>County</td>\n",
       "      <td>School Board</td>\n",
       "      <td>Superintendent</td>\n",
       "      <td>Charter School</td>\n",
       "    </tr>\n",
       "    <tr>\n",
       "      <th>3</th>\n",
       "      <td>The success of the movement led to a fifteen y...</td>\n",
       "      <td>Uttarakhand</td>\n",
       "      <td>Bihar</td>\n",
       "      <td>Kerala</td>\n",
       "      <td>Himachal Pradesh</td>\n",
       "      <td>West Bengal</td>\n",
       "    </tr>\n",
       "    <tr>\n",
       "      <th>4</th>\n",
       "      <td>The  _________  chipko in Hindi means to embra...</td>\n",
       "      <td>word</td>\n",
       "      <td>Phrase</td>\n",
       "      <td>Actual Meaning</td>\n",
       "      <td>Different Word</td>\n",
       "      <td>Literal Meaning</td>\n",
       "    </tr>\n",
       "    <tr>\n",
       "      <th>5</th>\n",
       "      <td>This  _________  of villagers gave the name Ch...</td>\n",
       "      <td>gesture</td>\n",
       "      <td>Handshake</td>\n",
       "      <td>Hand Shake</td>\n",
       "      <td>Polite Smile</td>\n",
       "      <td>Smile</td>\n",
       "    </tr>\n",
       "    <tr>\n",
       "      <th>6</th>\n",
       "      <td>Soon Sunderlal Bahuguna, another social activi...</td>\n",
       "      <td>villagers</td>\n",
       "      <td>Iron Golems</td>\n",
       "      <td>Townsfolk</td>\n",
       "      <td>Townspeople</td>\n",
       "      <td>Pigmen</td>\n",
       "    </tr>\n",
       "    <tr>\n",
       "      <th>7</th>\n",
       "      <td>It was a non-violent method of protesting agai...</td>\n",
       "      <td>mass</td>\n",
       "      <td>Gravitational Force</td>\n",
       "      <td>Gravity</td>\n",
       "      <td>Gravitational Potential</td>\n",
       "      <td>Potential Energy</td>\n",
       "    </tr>\n",
       "    <tr>\n",
       "      <th>8</th>\n",
       "      <td>In the 18th  _________ , this group of people,...</td>\n",
       "      <td>century</td>\n",
       "      <td>Millennium</td>\n",
       "      <td>Millenium</td>\n",
       "      <td>100 Years</td>\n",
       "      <td>150 Years</td>\n",
       "    </tr>\n",
       "    <tr>\n",
       "      <th>9</th>\n",
       "      <td>In 1974, in a village called Reni, the governm...</td>\n",
       "      <td>Devi</td>\n",
       "      <td>Tutte</td>\n",
       "      <td>Dico</td>\n",
       "      <td>Piuttosto</td>\n",
       "      <td>Nella</td>\n",
       "    </tr>\n",
       "    <tr>\n",
       "      <th>10</th>\n",
       "      <td>In many ways, the Chipko Movement is also cons...</td>\n",
       "      <td>understood</td>\n",
       "      <td>Explained</td>\n",
       "      <td>Comprehended</td>\n",
       "      <td>Meant</td>\n",
       "      <td>Implied</td>\n",
       "    </tr>\n",
       "    <tr>\n",
       "      <th>11</th>\n",
       "      <td>The people of the community understood that cu...</td>\n",
       "      <td>floods</td>\n",
       "      <td>Wildfires</td>\n",
       "      <td>Tsunamis</td>\n",
       "      <td>Hurricanes</td>\n",
       "      <td>Earthquakes</td>\n",
       "    </tr>\n",
       "    <tr>\n",
       "      <th>12</th>\n",
       "      <td>The movement was one of its  _________  in rec...</td>\n",
       "      <td>kind</td>\n",
       "      <td>Sort</td>\n",
       "      <td>Type</td>\n",
       "      <td>What</td>\n",
       "      <td>Other Sort</td>\n",
       "    </tr>\n",
       "    <tr>\n",
       "      <th>13</th>\n",
       "      <td>The  _________ , Chandi Prasad Bhatt, founder ...</td>\n",
       "      <td>environmentalist</td>\n",
       "      <td>Liberal</td>\n",
       "      <td>Activist</td>\n",
       "      <td>Conservationist</td>\n",
       "      <td>Anti Science</td>\n",
       "    </tr>\n",
       "    <tr>\n",
       "      <th>14</th>\n",
       "      <td>The event later led to a ten year ban on the f...</td>\n",
       "      <td>river</td>\n",
       "      <td>Lake</td>\n",
       "      <td>Creek</td>\n",
       "      <td>Shoreline</td>\n",
       "      <td>Shore</td>\n",
       "    </tr>\n",
       "  </tbody>\n",
       "</table>\n",
       "</div>"
      ],
      "text/plain": [
       "                                    Fill in the Blank           Answers  \\\n",
       "0    _________  led India to freedom using non-vio...          Gandhiji   \n",
       "1   In 1973, a similar movement took place in  ___...             India   \n",
       "2   Villagers in Chamoli  _________  of Uttar Prad...          district   \n",
       "3   The success of the movement led to a fifteen y...       Uttarakhand   \n",
       "4   The  _________  chipko in Hindi means to embra...              word   \n",
       "5   This  _________  of villagers gave the name Ch...           gesture   \n",
       "6   Soon Sunderlal Bahuguna, another social activi...         villagers   \n",
       "7   It was a non-violent method of protesting agai...              mass   \n",
       "8   In the 18th  _________ , this group of people,...           century   \n",
       "9   In 1974, in a village called Reni, the governm...              Devi   \n",
       "10  In many ways, the Chipko Movement is also cons...        understood   \n",
       "11  The people of the community understood that cu...            floods   \n",
       "12  The movement was one of its  _________  in rec...              kind   \n",
       "13  The  _________ , Chandi Prasad Bhatt, founder ...  environmentalist   \n",
       "14  The event later led to a ten year ban on the f...             river   \n",
       "\n",
       "               Option_1        Option_2                 Option_3  \\\n",
       "0              Ambedkar            Modi                 Kejriwal   \n",
       "1            Bangladesh        Malaysia                   Brunei   \n",
       "2                County    School Board           Superintendent   \n",
       "3                 Bihar          Kerala         Himachal Pradesh   \n",
       "4                Phrase  Actual Meaning           Different Word   \n",
       "5             Handshake      Hand Shake             Polite Smile   \n",
       "6           Iron Golems       Townsfolk              Townspeople   \n",
       "7   Gravitational Force         Gravity  Gravitational Potential   \n",
       "8            Millennium       Millenium                100 Years   \n",
       "9                 Tutte            Dico                Piuttosto   \n",
       "10            Explained    Comprehended                    Meant   \n",
       "11            Wildfires        Tsunamis               Hurricanes   \n",
       "12                 Sort            Type                     What   \n",
       "13              Liberal        Activist          Conservationist   \n",
       "14                 Lake           Creek                Shoreline   \n",
       "\n",
       "            Option_4  \n",
       "0              Ikeda  \n",
       "1              China  \n",
       "2     Charter School  \n",
       "3        West Bengal  \n",
       "4    Literal Meaning  \n",
       "5              Smile  \n",
       "6             Pigmen  \n",
       "7   Potential Energy  \n",
       "8          150 Years  \n",
       "9              Nella  \n",
       "10           Implied  \n",
       "11       Earthquakes  \n",
       "12        Other Sort  \n",
       "13      Anti Science  \n",
       "14             Shore  "
      ]
     },
     "execution_count": 8,
     "metadata": {},
     "output_type": "execute_result"
    }
   ],
   "source": [
    "df=FIBMCQ('worksheet1.txt').get_fill_in_the_blanks()\n",
    "df"
   ]
  },
  {
   "cell_type": "markdown",
   "id": "9ffdf1e1",
   "metadata": {},
   "source": [
    "### True or False generate"
   ]
  },
  {
   "cell_type": "code",
   "execution_count": 9,
   "id": "186b62d3",
   "metadata": {},
   "outputs": [],
   "source": [
    "class TrueFalse:\n",
    "    \n",
    "    def __init__(self,path):\n",
    "        \n",
    "        self._noun_adj_verb_=[]\n",
    "        self.pos = {'VERB', 'ADJ', 'NOUN'}\n",
    "        self.doc=open(path,mode='r').readlines()\n",
    "        self.doc=[re.sub('\\n','',i.strip()) for i in self.doc]\n",
    "        self.text=''.join(self.doc)\n",
    "        self.sentences = sent_tokenize(open(path,mode='r').read())\n",
    "        self.keyword_sentences = {}\n",
    "        self.stoplist = list(string.punctuation)\n",
    "        self.stoplist += ['-lrb-', '-rrb-', '-lcb-', '-rcb-', '-lsb-', '-rsb-']\n",
    "        self.stoplist += stopwords.words('english')\n",
    "        self.blank_sentences = []\n",
    "        self.keys=[]\n",
    "        self.df=pd.DataFrame()\n",
    "        \n",
    "    def get_noun_adj_verb(self):\n",
    "        for i in range(len(self.sentences)):\n",
    "            for j in nltk.pos_tag(nltk.word_tokenize(self.sentences[i])):\n",
    "                if j[1][:2]=='NN':\n",
    "                    self._noun_adj_verb_.append(j[0])\n",
    "        try:\n",
    "            extractor = pke.unsupervised.MultipartiteRank()\n",
    "            extractor.load_document(input=self.text)\n",
    "            extractor.candidate_selection(pos=self.pos, stoplist=self.stoplist)\n",
    "            extractor.candidate_weighting(alpha=1.1,\n",
    "                                      threshold=0.75,\n",
    "                                      method='average')\n",
    "            self.keyphrases = extractor.get_n_best(n=30)\n",
    "            for val in self.keyphrases:\n",
    "                if val[0] not in self._noun_adj_verb_:\n",
    "                    self._noun_adj_verb_.append(val[0])\n",
    "        except:\n",
    "            self._noun_adj_verb_ = []\n",
    "            traceback.print_exc()\n",
    "        return self._noun_adj_verb_\n",
    "    \n",
    "    def get_sentences_for_keyword(self):\n",
    "        self.keywords=self.get_noun_adj_verb()\n",
    "        keyword_processor = KeywordProcessor()\n",
    "        for word in self.keywords:\n",
    "            self.keyword_sentences[word] = []\n",
    "            keyword_processor.add_keyword(word)\n",
    "        for sentence in self.sentences:\n",
    "            self.keywords_found = keyword_processor.extract_keywords(sentence)\n",
    "            for key in self.keywords_found:\n",
    "                self.keyword_sentences[key].append(sentence)\n",
    "\n",
    "        for key in self.keyword_sentences.keys():\n",
    "            values = self.keyword_sentences[key]\n",
    "            values = sorted(values, key=len, reverse=True)\n",
    "            self.keyword_sentences[key] = values\n",
    "        return self.keyword_sentences\n",
    "    \n",
    "    def get_True_False(self):\n",
    "        self.sentence_mapping=self.get_sentences_for_keyword()\n",
    "        for key in self.sentence_mapping:\n",
    "            try:\n",
    "                distractors=Distractors(key,s2v)\n",
    "                self.options=distractors.find_all_distractors()\n",
    "                if len(self.options)==0:\n",
    "                    raise\n",
    "            except:\n",
    "                continue\n",
    "            for stats in self.sentence_mapping[key]:\n",
    "                false=random.randint(0,1)\n",
    "                if false==1:\n",
    "                    insensitive_sent = re.compile(re.escape(key), re.IGNORECASE)\n",
    "                    no_of_replacements =  len(re.findall(re.escape(key),stats,re.IGNORECASE))\n",
    "                    line = insensitive_sent.sub(random.choice(self.options), stats)\n",
    "                    self.blank_sentences.append(line)\n",
    "                    self.keys.append('False')\n",
    "                else:\n",
    "                    self.blank_sentences.append(stats)\n",
    "                    self.keys.append('True')\n",
    "        self.df[\"Statements\"]=self.blank_sentences\n",
    "        self.df[\"Answers\"]=self.keys\n",
    "        return self.df\n",
    "        "
   ]
  },
  {
   "cell_type": "code",
   "execution_count": 10,
   "id": "05874fe4",
   "metadata": {},
   "outputs": [
    {
     "data": {
      "text/html": [
       "<div>\n",
       "<style scoped>\n",
       "    .dataframe tbody tr th:only-of-type {\n",
       "        vertical-align: middle;\n",
       "    }\n",
       "\n",
       "    .dataframe tbody tr th {\n",
       "        vertical-align: top;\n",
       "    }\n",
       "\n",
       "    .dataframe thead th {\n",
       "        text-align: right;\n",
       "    }\n",
       "</style>\n",
       "<table border=\"1\" class=\"dataframe\">\n",
       "  <thead>\n",
       "    <tr style=\"text-align: right;\">\n",
       "      <th></th>\n",
       "      <th>Statements</th>\n",
       "      <th>Answers</th>\n",
       "    </tr>\n",
       "  </thead>\n",
       "  <tbody>\n",
       "    <tr>\n",
       "      <th>0</th>\n",
       "      <td>Gandhiji led India to freedom using non-violen...</td>\n",
       "      <td>True</td>\n",
       "    </tr>\n",
       "    <tr>\n",
       "      <th>1</th>\n",
       "      <td>In 1973, a similar movement took place in Indi...</td>\n",
       "      <td>True</td>\n",
       "    </tr>\n",
       "    <tr>\n",
       "      <th>2</th>\n",
       "      <td>Gandhiji led Malaysia to freedom using non-vio...</td>\n",
       "      <td>False</td>\n",
       "    </tr>\n",
       "    <tr>\n",
       "      <th>3</th>\n",
       "      <td>Gandhiji led India to freedom using non-violen...</td>\n",
       "      <td>True</td>\n",
       "    </tr>\n",
       "    <tr>\n",
       "      <th>4</th>\n",
       "      <td>The word chipko in Hindi means to embrace or c...</td>\n",
       "      <td>True</td>\n",
       "    </tr>\n",
       "    <tr>\n",
       "      <th>...</th>\n",
       "      <td>...</td>\n",
       "      <td>...</td>\n",
       "    </tr>\n",
       "    <tr>\n",
       "      <th>97</th>\n",
       "      <td>Soon Sunderlal Bahuguna, another social activi...</td>\n",
       "      <td>True</td>\n",
       "    </tr>\n",
       "    <tr>\n",
       "      <th>98</th>\n",
       "      <td>In 1974, in a village called Reni, the governm...</td>\n",
       "      <td>True</td>\n",
       "    </tr>\n",
       "    <tr>\n",
       "      <th>99</th>\n",
       "      <td>In 1974, in a village called Reni, the governm...</td>\n",
       "      <td>False</td>\n",
       "    </tr>\n",
       "    <tr>\n",
       "      <th>100</th>\n",
       "      <td>The environmentalist, Chandi Prasad Bhatt, fou...</td>\n",
       "      <td>False</td>\n",
       "    </tr>\n",
       "    <tr>\n",
       "      <th>101</th>\n",
       "      <td>In 1974, in a village called Reni, the governm...</td>\n",
       "      <td>False</td>\n",
       "    </tr>\n",
       "  </tbody>\n",
       "</table>\n",
       "<p>102 rows × 2 columns</p>\n",
       "</div>"
      ],
      "text/plain": [
       "                                            Statements Answers\n",
       "0    Gandhiji led India to freedom using non-violen...    True\n",
       "1    In 1973, a similar movement took place in Indi...    True\n",
       "2    Gandhiji led Malaysia to freedom using non-vio...   False\n",
       "3    Gandhiji led India to freedom using non-violen...    True\n",
       "4    The word chipko in Hindi means to embrace or c...    True\n",
       "..                                                 ...     ...\n",
       "97   Soon Sunderlal Bahuguna, another social activi...    True\n",
       "98   In 1974, in a village called Reni, the governm...    True\n",
       "99   In 1974, in a village called Reni, the governm...   False\n",
       "100  The environmentalist, Chandi Prasad Bhatt, fou...   False\n",
       "101  In 1974, in a village called Reni, the governm...   False\n",
       "\n",
       "[102 rows x 2 columns]"
      ]
     },
     "execution_count": 10,
     "metadata": {},
     "output_type": "execute_result"
    }
   ],
   "source": [
    "df=TrueFalse('worksheet1.txt').get_True_False()\n",
    "df"
   ]
  },
  {
   "cell_type": "markdown",
   "id": "a89f7f50",
   "metadata": {},
   "source": [
    "### Fine Tine T5 Model to generate question"
   ]
  },
  {
   "cell_type": "markdown",
   "id": "eef7d83e",
   "metadata": {},
   "source": [
    "#### Prep Dataset"
   ]
  },
  {
   "cell_type": "code",
   "execution_count": 13,
   "id": "337981e8",
   "metadata": {},
   "outputs": [
    {
     "data": {
      "application/vnd.jupyter.widget-view+json": {
       "model_id": "86eaa0f7007c47aeb9cf05743b59e9d7",
       "version_major": 2,
       "version_minor": 0
      },
      "text/plain": [
       "Downloading builder script:   0%|          | 0.00/1.97k [00:00<?, ?B/s]"
      ]
     },
     "metadata": {},
     "output_type": "display_data"
    },
    {
     "data": {
      "application/vnd.jupyter.widget-view+json": {
       "model_id": "adf575b4bbfc400ea557581238a96a7c",
       "version_major": 2,
       "version_minor": 0
      },
      "text/plain": [
       "Downloading metadata:   0%|          | 0.00/1.02k [00:00<?, ?B/s]"
      ]
     },
     "metadata": {},
     "output_type": "display_data"
    },
    {
     "name": "stdout",
     "output_type": "stream",
     "text": [
      "Downloading and preparing dataset squad/plain_text (download: 33.51 MiB, generated: 85.63 MiB, post-processed: Unknown size, total: 119.14 MiB) to C:\\Users\\shaik\\.cache\\huggingface\\datasets\\squad\\plain_text\\1.0.0\\d6ec3ceb99ca480ce37cdd35555d6cb2511d223b9150cce08a837ef62ffea453...\n"
     ]
    },
    {
     "data": {
      "application/vnd.jupyter.widget-view+json": {
       "model_id": "124805da811b4b65a6df91a89b6bbf61",
       "version_major": 2,
       "version_minor": 0
      },
      "text/plain": [
       "Downloading data files:   0%|          | 0/2 [00:00<?, ?it/s]"
      ]
     },
     "metadata": {},
     "output_type": "display_data"
    },
    {
     "data": {
      "application/vnd.jupyter.widget-view+json": {
       "model_id": "c4dd074f81bd4b7da5ef5d9ddcf20317",
       "version_major": 2,
       "version_minor": 0
      },
      "text/plain": [
       "Downloading data:   0%|          | 0.00/8.12M [00:00<?, ?B/s]"
      ]
     },
     "metadata": {},
     "output_type": "display_data"
    },
    {
     "data": {
      "application/vnd.jupyter.widget-view+json": {
       "model_id": "bfbe8c0522474724a4af4b4dea8bb956",
       "version_major": 2,
       "version_minor": 0
      },
      "text/plain": [
       "Downloading data:   0%|          | 0.00/1.05M [00:00<?, ?B/s]"
      ]
     },
     "metadata": {},
     "output_type": "display_data"
    },
    {
     "data": {
      "application/vnd.jupyter.widget-view+json": {
       "model_id": "1a2fafcf056b417293764ebac04fc9be",
       "version_major": 2,
       "version_minor": 0
      },
      "text/plain": [
       "Extracting data files:   0%|          | 0/2 [00:00<?, ?it/s]"
      ]
     },
     "metadata": {},
     "output_type": "display_data"
    },
    {
     "data": {
      "application/vnd.jupyter.widget-view+json": {
       "model_id": "",
       "version_major": 2,
       "version_minor": 0
      },
      "text/plain": [
       "Generating train split:   0%|          | 0/87599 [00:00<?, ? examples/s]"
      ]
     },
     "metadata": {},
     "output_type": "display_data"
    },
    {
     "data": {
      "application/vnd.jupyter.widget-view+json": {
       "model_id": "",
       "version_major": 2,
       "version_minor": 0
      },
      "text/plain": [
       "Generating validation split:   0%|          | 0/10570 [00:00<?, ? examples/s]"
      ]
     },
     "metadata": {},
     "output_type": "display_data"
    },
    {
     "name": "stdout",
     "output_type": "stream",
     "text": [
      "Dataset squad downloaded and prepared to C:\\Users\\shaik\\.cache\\huggingface\\datasets\\squad\\plain_text\\1.0.0\\d6ec3ceb99ca480ce37cdd35555d6cb2511d223b9150cce08a837ef62ffea453. Subsequent calls will reuse this data.\n"
     ]
    },
    {
     "name": "stderr",
     "output_type": "stream",
     "text": [
      "Reusing dataset squad (C:\\Users\\shaik\\.cache\\huggingface\\datasets\\squad\\plain_text\\1.0.0\\d6ec3ceb99ca480ce37cdd35555d6cb2511d223b9150cce08a837ef62ffea453)\n"
     ]
    }
   ],
   "source": [
    "from datasets import load_dataset\n",
    "train_dataset = load_dataset('squad', split='train')\n",
    "valid_dataset = load_dataset('squad', split='validation')"
   ]
  },
  {
   "cell_type": "code",
   "execution_count": 14,
   "id": "42378af7",
   "metadata": {},
   "outputs": [
    {
     "name": "stdout",
     "output_type": "stream",
     "text": [
      "{'answers': {'answer_start': [177, 177, 177],\n",
      "             'text': ['Denver Broncos', 'Denver Broncos', 'Denver Broncos']},\n",
      " 'context': 'Super Bowl 50 was an American football game to determine the '\n",
      "            'champion of the National Football League (NFL) for the 2015 '\n",
      "            'season. The American Football Conference (AFC) champion Denver '\n",
      "            'Broncos defeated the National Football Conference (NFC) champion '\n",
      "            'Carolina Panthers 24–10 to earn their third Super Bowl title. The '\n",
      "            \"game was played on February 7, 2016, at Levi's Stadium in the San \"\n",
      "            'Francisco Bay Area at Santa Clara, California. As this was the '\n",
      "            '50th Super Bowl, the league emphasized the \"golden anniversary\" '\n",
      "            'with various gold-themed initiatives, as well as temporarily '\n",
      "            'suspending the tradition of naming each Super Bowl game with '\n",
      "            'Roman numerals (under which the game would have been known as '\n",
      "            '\"Super Bowl L\"), so that the logo could prominently feature the '\n",
      "            'Arabic numerals 50.',\n",
      " 'id': '56be4db0acb8001400a502ec',\n",
      " 'question': 'Which NFL team represented the AFC at Super Bowl 50?',\n",
      " 'title': 'Super_Bowl_50'}\n"
     ]
    }
   ],
   "source": [
    "from pprint import pprint \n",
    "sample_validation_dataset = next(iter(valid_dataset))\n",
    "pprint (sample_validation_dataset)"
   ]
  },
  {
   "cell_type": "code",
   "execution_count": 15,
   "id": "1d5919ca",
   "metadata": {},
   "outputs": [
    {
     "name": "stdout",
     "output_type": "stream",
     "text": [
      "context:  Super Bowl 50 was an American football game to determine the champion of the National Football League (NFL) for the 2015 season. The American Football Conference (AFC) champion Denver Broncos defeated the National Football Conference (NFC) champion Carolina Panthers 24–10 to earn their third Super Bowl title. The game was played on February 7, 2016, at Levi's Stadium in the San Francisco Bay Area at Santa Clara, California. As this was the 50th Super Bowl, the league emphasized the \"golden anniversary\" with various gold-themed initiatives, as well as temporarily suspending the tradition of naming each Super Bowl game with Roman numerals (under which the game would have been known as \"Super Bowl L\"), so that the logo could prominently feature the Arabic numerals 50.\n",
      "question:  Which NFL team represented the AFC at Super Bowl 50?\n",
      "answer:  Denver Broncos\n"
     ]
    }
   ],
   "source": [
    "context = sample_validation_dataset['context']\n",
    "question = sample_validation_dataset['question']\n",
    "answer = sample_validation_dataset['answers']['text'][0]\n",
    "\n",
    "print (\"context: \",context)\n",
    "print (\"question: \",question)\n",
    "print (\"answer: \",answer)"
   ]
  },
  {
   "cell_type": "code",
   "execution_count": 33,
   "id": "cd68185f",
   "metadata": {},
   "outputs": [
    {
     "name": "stderr",
     "output_type": "stream",
     "text": [
      "C:\\Users\\shaik\\AppData\\Local\\Temp/ipykernel_21628/120616831.py:1: FutureWarning: Passing a negative integer is deprecated in version 1.0 and will not be supported in future version. Instead, use None to not limit the column width.\n",
      "  pd.set_option(\"display.max_colwidth\", -1)\n"
     ]
    }
   ],
   "source": [
    "pd.set_option(\"display.max_colwidth\", -1)\n",
    "df_train = pd.DataFrame( columns = ['context', 'answer','question'])\n",
    "df_validation = pd.DataFrame( columns = ['context', 'answer','question'])"
   ]
  },
  {
   "cell_type": "code",
   "execution_count": 34,
   "id": "4a96bb5a",
   "metadata": {},
   "outputs": [
    {
     "name": "stderr",
     "output_type": "stream",
     "text": [
      "100%|███████████████████████████████████████████████████████████████████████████| 87599/87599 [05:40<00:00, 256.97it/s]\n"
     ]
    }
   ],
   "source": [
    "for index,val in enumerate(tqdm(train_dataset)):\n",
    "    passage = val['context']\n",
    "    question = val['question']\n",
    "    answer = val['answers']['text'][0]\n",
    "    no_of_words = len(answer.split())\n",
    "    values=[passage,answer,question]\n",
    "    if no_of_words < 7:\n",
    "        row = pd.Series(values, index=df_train.columns)\n",
    "        df_train=df_train.append(row,ignore_index=True,) "
   ]
  },
  {
   "cell_type": "code",
   "execution_count": 36,
   "id": "2531c91e",
   "metadata": {},
   "outputs": [
    {
     "name": "stderr",
     "output_type": "stream",
     "text": [
      "100%|███████████████████████████████████████████████████████████████████████████| 10570/10570 [00:13<00:00, 785.12it/s]\n"
     ]
    }
   ],
   "source": [
    "for index,val in enumerate(tqdm(valid_dataset)):\n",
    "    passage = val['context']\n",
    "    question = val['question']\n",
    "    answer = val['answers']['text'][0]\n",
    "    no_of_words = len(answer.split())\n",
    "    values=[passage,answer,question]\n",
    "    if no_of_words < 7:\n",
    "        row = pd.Series(values, index=df_train.columns)\n",
    "        df_validation=df_validation.append(row,ignore_index=True,) "
   ]
  },
  {
   "cell_type": "code",
   "execution_count": 37,
   "id": "eccaa010",
   "metadata": {},
   "outputs": [],
   "source": [
    "df_train = df_train.sample(frac=1)\n",
    "df_validation = df_validation.sample(frac=1)"
   ]
  },
  {
   "cell_type": "code",
   "execution_count": 38,
   "id": "8fc7be52",
   "metadata": {},
   "outputs": [
    {
     "data": {
      "text/html": [
       "<div>\n",
       "<style scoped>\n",
       "    .dataframe tbody tr th:only-of-type {\n",
       "        vertical-align: middle;\n",
       "    }\n",
       "\n",
       "    .dataframe tbody tr th {\n",
       "        vertical-align: top;\n",
       "    }\n",
       "\n",
       "    .dataframe thead th {\n",
       "        text-align: right;\n",
       "    }\n",
       "</style>\n",
       "<table border=\"1\" class=\"dataframe\">\n",
       "  <thead>\n",
       "    <tr style=\"text-align: right;\">\n",
       "      <th></th>\n",
       "      <th>context</th>\n",
       "      <th>answer</th>\n",
       "      <th>question</th>\n",
       "    </tr>\n",
       "  </thead>\n",
       "  <tbody>\n",
       "    <tr>\n",
       "      <th>59709</th>\n",
       "      <td>Leucothea was daughter of Orchamus and sister of Clytia. She fell in love with Apollo who disguised himself as Leucothea's mother to gain entrance to her chambers. Clytia, jealous of her sister because she wanted Apollo for herself, told Orchamus the truth, betraying her sister's trust and confidence in her. Enraged, Orchamus ordered Leucothea to be buried alive. Apollo refused to forgive Clytia for betraying his beloved, and a grieving Clytia wilted and slowly died. Apollo changed her into an incense plant, either heliotrope or sunflower, which follows the sun every day.</td>\n",
       "      <td>Orchamus</td>\n",
       "      <td>Who ordered Leucothea to be buried alive?</td>\n",
       "    </tr>\n",
       "    <tr>\n",
       "      <th>58088</th>\n",
       "      <td>The climate of Western Alaska is determined in large part by the Bering Sea and the Gulf of Alaska. It is a subarctic oceanic climate in the southwest and a continental subarctic climate farther north. The temperature is somewhat moderate considering how far north the area is. This region has a tremendous amount of variety in precipitation. An area stretching from the northern side of the Seward Peninsula to the Kobuk River valley (i. e., the region around Kotzebue Sound) is technically a desert, with portions receiving less than 10 in (25 cm) of precipitation annually. On the other extreme, some locations between Dillingham and Bethel average around 100 in (250 cm) of precipitation.</td>\n",
       "      <td>the region around Kotzebue Sound</td>\n",
       "      <td>Which area of Western Alaska is techincally a desert?</td>\n",
       "    </tr>\n",
       "    <tr>\n",
       "      <th>12495</th>\n",
       "      <td>The Soviet regime first came to power on November 7, 1917, immediately after the Russian Provisional Government, which governed the Russian Republic, was overthrown in the October Revolution. The state it governed, which did not have an official name, would be unrecognized by neighboring countries for another five months.</td>\n",
       "      <td>five</td>\n",
       "      <td>In months, for how long was the new Soviet state unrecognized?</td>\n",
       "    </tr>\n",
       "    <tr>\n",
       "      <th>12825</th>\n",
       "      <td>Alexander Bell was born in Edinburgh, Scotland, on March 3, 1847. The family home was at 16 South Charlotte Street, and has a stone inscription marking it as Alexander Graham Bell's birthplace. He had two brothers: Melville James Bell (1845–70) and Edward Charles Bell (1848–67), both of whom would die of tuberculosis. His father was Professor Alexander Melville Bell, a phonetician, and his mother was Eliza Grace (née Symonds). Born as just \"Alexander Bell\", at age 10 he made a plea to his father to have a middle name like his two brothers.[N 6] For his 11th birthday, his father acquiesced and allowed him to adopt the name \"Graham\", chosen out of respect for Alexander Graham, a Canadian being treated by his father who had become a family friend. To close relatives and friends he remained \"Aleck\".</td>\n",
       "      <td>Edinburgh</td>\n",
       "      <td>What city was Bell born in?</td>\n",
       "    </tr>\n",
       "    <tr>\n",
       "      <th>3289</th>\n",
       "      <td>Initially, officials were unable to contact the Wolong National Nature Reserve, home to around 280 giant pandas. However, the Foreign Ministry later said that a group of 31 British tourists visiting the Wolong Panda Reserve in the quake-hit area returned safe and uninjured to Chengdu. Nonetheless, the well-being of an even greater number of pandas in the neighbouring panda reserves remained unknown. Five security guards at the reserve were killed by the earthquake. Six pandas escaped after their enclosures were damaged. By May 20, two pandas at the reserve were found to be injured, while the search continued for another two adult pandas that went missing after the quake. By May 28, 2008, one panda was still missing. The missing panda was later found dead under the rubble of an enclosure. Nine-year-old Mao Mao, a mother of five at the breeding center, was discovered on Monday, her body crushed by a wall in her enclosure. Panda keepers and other workers placed her remains in a small wooden crate and buried her outside the breeding centre.</td>\n",
       "      <td>31</td>\n",
       "      <td>How many British visitors to the Reserve left unharmed?</td>\n",
       "    </tr>\n",
       "  </tbody>\n",
       "</table>\n",
       "</div>"
      ],
      "text/plain": [
       "                                                                                                                                                                                                                                                                                                                                                                                                                                                                                                                                                                                                                                                                                                                                                                                                                                                                                                                                                                                                                                                                                            context  \\\n",
       "59709  Leucothea was daughter of Orchamus and sister of Clytia. She fell in love with Apollo who disguised himself as Leucothea's mother to gain entrance to her chambers. Clytia, jealous of her sister because she wanted Apollo for herself, told Orchamus the truth, betraying her sister's trust and confidence in her. Enraged, Orchamus ordered Leucothea to be buried alive. Apollo refused to forgive Clytia for betraying his beloved, and a grieving Clytia wilted and slowly died. Apollo changed her into an incense plant, either heliotrope or sunflower, which follows the sun every day.                                                                                                                                                                                                                                                                                                                                                                                                                                                                                             \n",
       "58088  The climate of Western Alaska is determined in large part by the Bering Sea and the Gulf of Alaska. It is a subarctic oceanic climate in the southwest and a continental subarctic climate farther north. The temperature is somewhat moderate considering how far north the area is. This region has a tremendous amount of variety in precipitation. An area stretching from the northern side of the Seward Peninsula to the Kobuk River valley (i. e., the region around Kotzebue Sound) is technically a desert, with portions receiving less than 10 in (25 cm) of precipitation annually. On the other extreme, some locations between Dillingham and Bethel average around 100 in (250 cm) of precipitation.                                                                                                                                                                                                                                                                                                                                                                           \n",
       "12495  The Soviet regime first came to power on November 7, 1917, immediately after the Russian Provisional Government, which governed the Russian Republic, was overthrown in the October Revolution. The state it governed, which did not have an official name, would be unrecognized by neighboring countries for another five months.                                                                                                                                                                                                                                                                                                                                                                                                                                                                                                                                                                                                                                                                                                                                                            \n",
       "12825  Alexander Bell was born in Edinburgh, Scotland, on March 3, 1847. The family home was at 16 South Charlotte Street, and has a stone inscription marking it as Alexander Graham Bell's birthplace. He had two brothers: Melville James Bell (1845–70) and Edward Charles Bell (1848–67), both of whom would die of tuberculosis. His father was Professor Alexander Melville Bell, a phonetician, and his mother was Eliza Grace (née Symonds). Born as just \"Alexander Bell\", at age 10 he made a plea to his father to have a middle name like his two brothers.[N 6] For his 11th birthday, his father acquiesced and allowed him to adopt the name \"Graham\", chosen out of respect for Alexander Graham, a Canadian being treated by his father who had become a family friend. To close relatives and friends he remained \"Aleck\".                                                                                                                                                                                                                                                         \n",
       "3289   Initially, officials were unable to contact the Wolong National Nature Reserve, home to around 280 giant pandas. However, the Foreign Ministry later said that a group of 31 British tourists visiting the Wolong Panda Reserve in the quake-hit area returned safe and uninjured to Chengdu. Nonetheless, the well-being of an even greater number of pandas in the neighbouring panda reserves remained unknown. Five security guards at the reserve were killed by the earthquake. Six pandas escaped after their enclosures were damaged. By May 20, two pandas at the reserve were found to be injured, while the search continued for another two adult pandas that went missing after the quake. By May 28, 2008, one panda was still missing. The missing panda was later found dead under the rubble of an enclosure. Nine-year-old Mao Mao, a mother of five at the breeding center, was discovered on Monday, her body crushed by a wall in her enclosure. Panda keepers and other workers placed her remains in a small wooden crate and buried her outside the breeding centre.   \n",
       "\n",
       "                                 answer  \\\n",
       "59709  Orchamus                           \n",
       "58088  the region around Kotzebue Sound   \n",
       "12495  five                               \n",
       "12825  Edinburgh                          \n",
       "3289   31                                 \n",
       "\n",
       "                                                             question  \n",
       "59709  Who ordered Leucothea to be buried alive?                       \n",
       "58088  Which area of Western Alaska is techincally a desert?           \n",
       "12495  In months, for how long was the new Soviet state unrecognized?  \n",
       "12825  What city was Bell born in?                                     \n",
       "3289   How many British visitors to the Reserve left unharmed?         "
      ]
     },
     "execution_count": 38,
     "metadata": {},
     "output_type": "execute_result"
    }
   ],
   "source": [
    "df_train.head()"
   ]
  },
  {
   "cell_type": "code",
   "execution_count": 39,
   "id": "661a0685",
   "metadata": {},
   "outputs": [
    {
     "data": {
      "text/html": [
       "<div>\n",
       "<style scoped>\n",
       "    .dataframe tbody tr th:only-of-type {\n",
       "        vertical-align: middle;\n",
       "    }\n",
       "\n",
       "    .dataframe tbody tr th {\n",
       "        vertical-align: top;\n",
       "    }\n",
       "\n",
       "    .dataframe thead th {\n",
       "        text-align: right;\n",
       "    }\n",
       "</style>\n",
       "<table border=\"1\" class=\"dataframe\">\n",
       "  <thead>\n",
       "    <tr style=\"text-align: right;\">\n",
       "      <th></th>\n",
       "      <th>context</th>\n",
       "      <th>answer</th>\n",
       "      <th>question</th>\n",
       "    </tr>\n",
       "  </thead>\n",
       "  <tbody>\n",
       "    <tr>\n",
       "      <th>6584</th>\n",
       "      <td>Private schools generally prefer to be called independent schools, because of their freedom to operate outside of government and local government control. Some of these are also known as public schools. Preparatory schools in the UK prepare pupils aged up to 13 years old to enter public schools. The name \"public school\" is based on the fact that the schools were open to pupils from anywhere, and not merely to those from a certain locality, and of any religion or occupation. According to The Good Schools Guide approximately 9 per cent of children being educated in the UK are doing so at fee-paying schools at GSCE level and 13 per cent at A-level.[citation needed] Many independent schools are single-sex (though this is becoming less common). Fees range from under £3,000 to £21,000 and above per year for day pupils, rising to £27,000+ per year for boarders. For details in Scotland, see \"Meeting the Cost\".</td>\n",
       "      <td>public</td>\n",
       "      <td>What schools do preparatory schools prepare British children to attend?</td>\n",
       "    </tr>\n",
       "    <tr>\n",
       "      <th>6495</th>\n",
       "      <td>Private schools, also known as independent schools, non-governmental, or nonstate schools, are not administered by local, state or national governments; thus, they retain the right to select their students and are funded in whole or in part by charging their students tuition, rather than relying on mandatory taxation through public (government) funding; at some private schools students may be able to get a scholarship, which makes the cost cheaper, depending on a talent the student may have (e.g. sport scholarship, art scholarship, academic scholarship), financial need, or tax credit scholarships that might be available.</td>\n",
       "      <td>independent</td>\n",
       "      <td>Along with non-governmental and nonstate schools, what is another name for private schools?</td>\n",
       "    </tr>\n",
       "    <tr>\n",
       "      <th>4933</th>\n",
       "      <td>The Pilgrim Street building was refurbished between November 2006 and May 2008; during the refurbishment works, the cinema relocated to the Old Town Hall, Gateshead. In May 2008 the Tyneside Cinema reopened in the restored and refurbished original building. The site currently houses three cinemas, including the restored Classic —the United Kingdom's last surviving news cinema still in full-time operation—alongside two new screens, a roof extension containing the Tyneside Bar, and dedicated education and teaching suites.</td>\n",
       "      <td>three</td>\n",
       "      <td>How many cinemas are currently housed at one site?</td>\n",
       "    </tr>\n",
       "    <tr>\n",
       "      <th>1966</th>\n",
       "      <td>Chris Keates, the general secretary of National Association of Schoolmasters Union of Women Teachers, said that teachers who have sex with pupils over the age of consent should not be placed on the sex offenders register and that prosecution for statutory rape \"is a real anomaly in the law that we are concerned about.\" This has led to outrage from child protection and parental rights groups. Fears of being labelled a pedophile or hebephile has led to several men who enjoy teaching avoiding the profession. This has in some jurisdictions reportedly led to a shortage of male teachers.</td>\n",
       "      <td>child protection and parental rights groups</td>\n",
       "      <td>A statement made by Chris Keates caused issues with whom?</td>\n",
       "    </tr>\n",
       "    <tr>\n",
       "      <th>3072</th>\n",
       "      <td>In Berlin, the Huguenots created two new neighbourhoods: Dorotheenstadt and Friedrichstadt. By 1700, one-fifth of the city's population was French speaking. The Berlin Huguenots preserved the French language in their church services for nearly a century. They ultimately decided to switch to German in protest against the occupation of Prussia by Napoleon in 1806-07. Many of their descendents rose to positions of prominence. Several congregations were founded, such as those of Fredericia (Denmark), Berlin, Stockholm, Hamburg, Frankfurt, Helsinki, and Emden.</td>\n",
       "      <td>1806-07</td>\n",
       "      <td>What years did this occupation take place?</td>\n",
       "    </tr>\n",
       "  </tbody>\n",
       "</table>\n",
       "</div>"
      ],
      "text/plain": [
       "                                                                                                                                                                                                                                                                                                                                                                                                                                                                                                                                                                                                                                                                                                                                                                                                                                                                                                                                                  context  \\\n",
       "6584  Private schools generally prefer to be called independent schools, because of their freedom to operate outside of government and local government control. Some of these are also known as public schools. Preparatory schools in the UK prepare pupils aged up to 13 years old to enter public schools. The name \"public school\" is based on the fact that the schools were open to pupils from anywhere, and not merely to those from a certain locality, and of any religion or occupation. According to The Good Schools Guide approximately 9 per cent of children being educated in the UK are doing so at fee-paying schools at GSCE level and 13 per cent at A-level.[citation needed] Many independent schools are single-sex (though this is becoming less common). Fees range from under £3,000 to £21,000 and above per year for day pupils, rising to £27,000+ per year for boarders. For details in Scotland, see \"Meeting the Cost\".   \n",
       "6495  Private schools, also known as independent schools, non-governmental, or nonstate schools, are not administered by local, state or national governments; thus, they retain the right to select their students and are funded in whole or in part by charging their students tuition, rather than relying on mandatory taxation through public (government) funding; at some private schools students may be able to get a scholarship, which makes the cost cheaper, depending on a talent the student may have (e.g. sport scholarship, art scholarship, academic scholarship), financial need, or tax credit scholarships that might be available.                                                                                                                                                                                                                                                                                                  \n",
       "4933  The Pilgrim Street building was refurbished between November 2006 and May 2008; during the refurbishment works, the cinema relocated to the Old Town Hall, Gateshead. In May 2008 the Tyneside Cinema reopened in the restored and refurbished original building. The site currently houses three cinemas, including the restored Classic —the United Kingdom's last surviving news cinema still in full-time operation—alongside two new screens, a roof extension containing the Tyneside Bar, and dedicated education and teaching suites.                                                                                                                                                                                                                                                                                                                                                                                                         \n",
       "1966  Chris Keates, the general secretary of National Association of Schoolmasters Union of Women Teachers, said that teachers who have sex with pupils over the age of consent should not be placed on the sex offenders register and that prosecution for statutory rape \"is a real anomaly in the law that we are concerned about.\" This has led to outrage from child protection and parental rights groups. Fears of being labelled a pedophile or hebephile has led to several men who enjoy teaching avoiding the profession. This has in some jurisdictions reportedly led to a shortage of male teachers.                                                                                                                                                                                                                                                                                                                                          \n",
       "3072  In Berlin, the Huguenots created two new neighbourhoods: Dorotheenstadt and Friedrichstadt. By 1700, one-fifth of the city's population was French speaking. The Berlin Huguenots preserved the French language in their church services for nearly a century. They ultimately decided to switch to German in protest against the occupation of Prussia by Napoleon in 1806-07. Many of their descendents rose to positions of prominence. Several congregations were founded, such as those of Fredericia (Denmark), Berlin, Stockholm, Hamburg, Frankfurt, Helsinki, and Emden.                                                                                                                                                                                                                                                                                                                                                                     \n",
       "\n",
       "                                           answer  \\\n",
       "6584  public                                        \n",
       "6495  independent                                   \n",
       "4933  three                                         \n",
       "1966  child protection and parental rights groups   \n",
       "3072  1806-07                                       \n",
       "\n",
       "                                                                                         question  \n",
       "6584  What schools do preparatory schools prepare British children to attend?                      \n",
       "6495  Along with non-governmental and nonstate schools, what is another name for private schools?  \n",
       "4933  How many cinemas are currently housed at one site?                                           \n",
       "1966  A statement made by Chris Keates caused issues with whom?                                    \n",
       "3072  What years did this occupation take place?                                                   "
      ]
     },
     "execution_count": 39,
     "metadata": {},
     "output_type": "execute_result"
    }
   ],
   "source": [
    "df_validation.head()"
   ]
  },
  {
   "cell_type": "code",
   "execution_count": 40,
   "id": "dfb25cdd",
   "metadata": {},
   "outputs": [],
   "source": [
    "df_train.to_csv('t5/dataset/squad_t5_train.csv', index = False)\n",
    "df_validation.to_csv('t5/dataset/squad_t5_val.csv', index = False)"
   ]
  },
  {
   "cell_type": "code",
   "execution_count": 41,
   "id": "bc32ee9a",
   "metadata": {},
   "outputs": [
    {
     "data": {
      "application/vnd.jupyter.widget-view+json": {
       "model_id": "4c6fbaa1d3ac4eceb580bf3e8f8a04fd",
       "version_major": 2,
       "version_minor": 0
      },
      "text/plain": [
       "Downloading:   0%|          | 0.00/773k [00:00<?, ?B/s]"
      ]
     },
     "metadata": {},
     "output_type": "display_data"
    },
    {
     "data": {
      "application/vnd.jupyter.widget-view+json": {
       "model_id": "c1751676983341c79a75e8c57259f2d0",
       "version_major": 2,
       "version_minor": 0
      },
      "text/plain": [
       "Downloading:   0%|          | 0.00/1.17k [00:00<?, ?B/s]"
      ]
     },
     "metadata": {},
     "output_type": "display_data"
    },
    {
     "data": {
      "application/vnd.jupyter.widget-view+json": {
       "model_id": "318a961b10114fda93dc68dce08dd35b",
       "version_major": 2,
       "version_minor": 0
      },
      "text/plain": [
       "Downloading:   0%|          | 0.00/850M [00:00<?, ?B/s]"
      ]
     },
     "metadata": {},
     "output_type": "display_data"
    }
   ],
   "source": [
    "t5_tokenizer = T5Tokenizer.from_pretrained('t5-base')\n",
    "t5_model = T5ForConditionalGeneration.from_pretrained('t5-base')"
   ]
  },
  {
   "cell_type": "code",
   "execution_count": 42,
   "id": "5415f7e9",
   "metadata": {},
   "outputs": [],
   "source": [
    "import copy\n",
    "\n",
    "class QuestionGenerationDataset(Dataset):\n",
    "    def __init__(self, tokenizer, filepath, max_len_inp=512,max_len_out=96):\n",
    "        self.path = filepath\n",
    "\n",
    "        self.passage_column = \"context\"\n",
    "        self.answer = \"answer\"\n",
    "        self.question = \"question\"\n",
    "\n",
    "        # self.data = pd.read_csv(self.path)\n",
    "        self.data = pd.read_csv(self.path,nrows=1000)\n",
    "\n",
    "        self.max_len_input = max_len_inp\n",
    "        self.max_len_output = max_len_out\n",
    "        self.tokenizer = tokenizer\n",
    "        self.inputs = []\n",
    "        self.targets = []\n",
    "        self.skippedcount =0\n",
    "        self._build()\n",
    "\n",
    "    def __len__(self):\n",
    "        return len(self.inputs)\n",
    "\n",
    "    def __getitem__(self, index):\n",
    "        source_ids = self.inputs[index][\"input_ids\"].squeeze()\n",
    "        target_ids = self.targets[index][\"input_ids\"].squeeze()\n",
    "\n",
    "        src_mask = self.inputs[index][\"attention_mask\"].squeeze()  # might need to squeeze\n",
    "        target_mask = self.targets[index][\"attention_mask\"].squeeze()  # might need to squeeze\n",
    "\n",
    "        labels = copy.deepcopy(target_ids)\n",
    "        labels [labels==0] = -100\n",
    "\n",
    "        return {\"source_ids\": source_ids, \"source_mask\": src_mask, \"target_ids\": target_ids, \"target_mask\": target_mask,\"labels\":labels}\n",
    "\n",
    "    def _build(self):\n",
    "        for idx in tqdm(range(len(self.data))):\n",
    "            passage,answer,target = self.data.loc[idx, self.passage_column],self.data.loc[idx, self.answer], self.data.loc[idx, self.question]\n",
    "\n",
    "            input_ = \"context: %s  answer: %s </s>\" % (passage, answer)\n",
    "            target = \"question: %s </s>\" % (str(target))\n",
    "\n",
    "            # get encoding length of input. If it is greater than self.max_len skip it\n",
    "            test_input_encoding = self.tokenizer.encode_plus(input_,\n",
    "                                        truncation=False,\n",
    "                                        return_tensors=\"pt\")\n",
    "            \n",
    "            length_of_input_encoding = len(test_input_encoding['input_ids'][0])\n",
    "\n",
    "\n",
    "            if length_of_input_encoding > self.max_len_input:\n",
    "              self.skippedcount = self.skippedcount + 1\n",
    "              continue\n",
    "\n",
    "            # tokenize inputs\n",
    "            tokenized_inputs = self.tokenizer.batch_encode_plus(\n",
    "                [input_], max_length=self.max_len_input, pad_to_max_length=True, return_tensors=\"pt\"\n",
    "            )\n",
    "            # tokenize targets\n",
    "            tokenized_targets = self.tokenizer.batch_encode_plus(\n",
    "                [target], max_length=self.max_len_output, pad_to_max_length=True,return_tensors=\"pt\"\n",
    "            )\n",
    "\n",
    "            self.inputs.append(tokenized_inputs)\n",
    "            self.targets.append(tokenized_targets)"
   ]
  },
  {
   "cell_type": "code",
   "execution_count": 43,
   "id": "e6bcdf82",
   "metadata": {},
   "outputs": [
    {
     "name": "stderr",
     "output_type": "stream",
     "text": [
      "  0%|                                                                                         | 0/1000 [00:00<?, ?it/s]C:\\ProgramData\\Anaconda3\\lib\\site-packages\\transformers\\models\\t5\\tokenization_t5.py:194: UserWarning: This sequence already has </s>. In future versions this behavior may lead to duplicated eos tokens being added.\n",
      "  warnings.warn(\n",
      "Truncation was not explicitly activated but `max_length` is provided a specific value, please use `truncation=True` to explicitly truncate examples to max length. Defaulting to 'longest_first' truncation strategy. If you encode pairs of sequences (GLUE-style) with the tokenizer you can select this strategy more precisely by providing a specific strategy to `truncation`.\n",
      "C:\\ProgramData\\Anaconda3\\lib\\site-packages\\transformers\\tokenization_utils_base.py:2263: FutureWarning: The `pad_to_max_length` argument is deprecated and will be removed in a future version, use `padding=True` or `padding='longest'` to pad to the longest sequence in the batch, or use `padding='max_length'` to pad to a max length. In this case, you can give a specific length with `max_length` (e.g. `max_length=45`) or leave max_length to None to pad to the maximal input size of the model (e.g. 512 for Bert).\n",
      "  warnings.warn(\n",
      " 47%|████████████████████████████████████▊                                         | 472/1000 [00:00<00:00, 617.29it/s]Token indices sequence length is longer than the specified maximum sequence length for this model (530 > 512). Running this sequence through the model will result in indexing errors\n",
      "100%|█████████████████████████████████████████████████████████████████████████████| 1000/1000 [00:01<00:00, 577.59it/s]\n"
     ]
    }
   ],
   "source": [
    "train_dataset = QuestionGenerationDataset(t5_tokenizer,'t5/dataset/squad_t5_train.csv')"
   ]
  },
  {
   "cell_type": "code",
   "execution_count": 50,
   "id": "626fb91b",
   "metadata": {},
   "outputs": [
    {
     "name": "stderr",
     "output_type": "stream",
     "text": [
      "100%|█████████████████████████████████████████████████████████████████████████████| 1000/1000 [00:01<00:00, 591.44it/s]\n"
     ]
    }
   ],
   "source": [
    "validation_dataset = QuestionGenerationDataset(t5_tokenizer,'t5/dataset/squad_t5_val.csv')"
   ]
  },
  {
   "cell_type": "markdown",
   "id": "70137b8f",
   "metadata": {},
   "source": [
    "#### Train Model"
   ]
  },
  {
   "cell_type": "code",
   "execution_count": 51,
   "id": "50ebc8e7",
   "metadata": {},
   "outputs": [],
   "source": [
    "class T5FineTuner(pl.LightningModule):\n",
    "    def __init__(self,hparams, t5model, t5tokenizer):\n",
    "        super(T5FineTuner, self).__init__()\n",
    "        self.hparams = hparams\n",
    "        self.model = t5model\n",
    "        self.tokenizer = t5tokenizer\n",
    "\n",
    "\n",
    "    def forward( self, input_ids, attention_mask=None, decoder_input_ids=None, decoder_attention_mask=None, lm_labels=None):\n",
    "         outputs = self.model(\n",
    "            input_ids=input_ids,\n",
    "            attention_mask=attention_mask,\n",
    "            decoder_attention_mask=decoder_attention_mask,\n",
    "            labels=lm_labels,\n",
    "        )\n",
    "         \n",
    "         return outputs\n",
    "\n",
    "\n",
    "    def training_step(self, batch, batch_idx):\n",
    "        outputs = self.forward(\n",
    "            input_ids=batch[\"source_ids\"],\n",
    "            attention_mask=batch[\"source_mask\"],\n",
    "            decoder_input_ids = batch[\"target_ids\"],\n",
    "            decoder_attention_mask=batch['target_mask'],\n",
    "            lm_labels=batch['labels']\n",
    "        )\n",
    "\n",
    "        loss = outputs[0]\n",
    "        self.log('train_loss',loss)\n",
    "        return loss\n",
    "\n",
    "    def validation_step(self, batch, batch_idx):\n",
    "        outputs = self.forward(\n",
    "            input_ids=batch[\"source_ids\"],\n",
    "            attention_mask=batch[\"source_mask\"],\n",
    "            decoder_input_ids = batch[\"target_ids\"],\n",
    "            decoder_attention_mask=batch['target_mask'],\n",
    "            lm_labels=batch['labels']\n",
    "        )\n",
    "\n",
    "        loss = outputs[0]\n",
    "        self.log(\"val_loss\",loss)\n",
    "        return loss\n",
    "\n",
    "    def train_dataloader(self):\n",
    "        return DataLoader(train_dataset, batch_size=self.hparams.batch_size,num_workers=4)\n",
    "\n",
    "    def val_dataloader(self):\n",
    "        return DataLoader(validation_dataset, batch_size=self.hparams.batch_size,num_workers=4)\n",
    "\n",
    "\n",
    "\n",
    "    def configure_optimizers(self):\n",
    "        optimizer = AdamW(self.parameters(), lr=3e-4, eps=1e-8)\n",
    "        return optimizer"
   ]
  },
  {
   "cell_type": "code",
   "execution_count": 53,
   "id": "35d85c13",
   "metadata": {},
   "outputs": [
    {
     "ename": "AttributeError",
     "evalue": "can't set attribute",
     "output_type": "error",
     "traceback": [
      "\u001b[1;31m---------------------------------------------------------------------------\u001b[0m",
      "\u001b[1;31mAttributeError\u001b[0m                            Traceback (most recent call last)",
      "\u001b[1;32m~\\AppData\\Local\\Temp/ipykernel_21628/728066941.py\u001b[0m in \u001b[0;36m<module>\u001b[1;34m\u001b[0m\n\u001b[0;32m      7\u001b[0m \u001b[1;33m\u001b[0m\u001b[0m\n\u001b[0;32m      8\u001b[0m \u001b[1;33m\u001b[0m\u001b[0m\n\u001b[1;32m----> 9\u001b[1;33m \u001b[0mmodel\u001b[0m \u001b[1;33m=\u001b[0m \u001b[0mT5FineTuner\u001b[0m\u001b[1;33m(\u001b[0m\u001b[0margs\u001b[0m\u001b[1;33m,\u001b[0m\u001b[0mt5_model\u001b[0m\u001b[1;33m,\u001b[0m\u001b[0mt5_tokenizer\u001b[0m\u001b[1;33m)\u001b[0m\u001b[1;33m\u001b[0m\u001b[1;33m\u001b[0m\u001b[0m\n\u001b[0m\u001b[0;32m     10\u001b[0m \u001b[1;33m\u001b[0m\u001b[0m\n\u001b[0;32m     11\u001b[0m \u001b[0mtrainer\u001b[0m \u001b[1;33m=\u001b[0m \u001b[0mpl\u001b[0m\u001b[1;33m.\u001b[0m\u001b[0mTrainer\u001b[0m\u001b[1;33m(\u001b[0m\u001b[0mmax_epochs\u001b[0m \u001b[1;33m=\u001b[0m \u001b[1;36m1\u001b[0m\u001b[1;33m,\u001b[0m \u001b[0mgpus\u001b[0m\u001b[1;33m=\u001b[0m\u001b[1;36m1\u001b[0m\u001b[1;33m,\u001b[0m\u001b[0mprogress_bar_refresh_rate\u001b[0m\u001b[1;33m=\u001b[0m\u001b[1;36m30\u001b[0m\u001b[1;33m)\u001b[0m\u001b[1;33m\u001b[0m\u001b[1;33m\u001b[0m\u001b[0m\n",
      "\u001b[1;32m~\\AppData\\Local\\Temp/ipykernel_21628/2572735137.py\u001b[0m in \u001b[0;36m__init__\u001b[1;34m(self, hparams, t5model, t5tokenizer)\u001b[0m\n\u001b[0;32m      2\u001b[0m     \u001b[1;32mdef\u001b[0m \u001b[0m__init__\u001b[0m\u001b[1;33m(\u001b[0m\u001b[0mself\u001b[0m\u001b[1;33m,\u001b[0m\u001b[0mhparams\u001b[0m\u001b[1;33m,\u001b[0m \u001b[0mt5model\u001b[0m\u001b[1;33m,\u001b[0m \u001b[0mt5tokenizer\u001b[0m\u001b[1;33m)\u001b[0m\u001b[1;33m:\u001b[0m\u001b[1;33m\u001b[0m\u001b[1;33m\u001b[0m\u001b[0m\n\u001b[0;32m      3\u001b[0m         \u001b[0msuper\u001b[0m\u001b[1;33m(\u001b[0m\u001b[0mT5FineTuner\u001b[0m\u001b[1;33m,\u001b[0m \u001b[0mself\u001b[0m\u001b[1;33m)\u001b[0m\u001b[1;33m.\u001b[0m\u001b[0m__init__\u001b[0m\u001b[1;33m(\u001b[0m\u001b[1;33m)\u001b[0m\u001b[1;33m\u001b[0m\u001b[1;33m\u001b[0m\u001b[0m\n\u001b[1;32m----> 4\u001b[1;33m         \u001b[0mself\u001b[0m\u001b[1;33m.\u001b[0m\u001b[0mhparams\u001b[0m \u001b[1;33m=\u001b[0m \u001b[0mhparams\u001b[0m\u001b[1;33m\u001b[0m\u001b[1;33m\u001b[0m\u001b[0m\n\u001b[0m\u001b[0;32m      5\u001b[0m         \u001b[0mself\u001b[0m\u001b[1;33m.\u001b[0m\u001b[0mmodel\u001b[0m \u001b[1;33m=\u001b[0m \u001b[0mt5model\u001b[0m\u001b[1;33m\u001b[0m\u001b[1;33m\u001b[0m\u001b[0m\n\u001b[0;32m      6\u001b[0m         \u001b[0mself\u001b[0m\u001b[1;33m.\u001b[0m\u001b[0mtokenizer\u001b[0m \u001b[1;33m=\u001b[0m \u001b[0mt5tokenizer\u001b[0m\u001b[1;33m\u001b[0m\u001b[1;33m\u001b[0m\u001b[0m\n",
      "\u001b[1;32mC:\\ProgramData\\Anaconda3\\lib\\site-packages\\torch\\nn\\modules\\module.py\u001b[0m in \u001b[0;36m__setattr__\u001b[1;34m(self, name, value)\u001b[0m\n\u001b[0;32m   1231\u001b[0m                     \u001b[0mbuffers\u001b[0m\u001b[1;33m[\u001b[0m\u001b[0mname\u001b[0m\u001b[1;33m]\u001b[0m \u001b[1;33m=\u001b[0m \u001b[0mvalue\u001b[0m\u001b[1;33m\u001b[0m\u001b[1;33m\u001b[0m\u001b[0m\n\u001b[0;32m   1232\u001b[0m                 \u001b[1;32melse\u001b[0m\u001b[1;33m:\u001b[0m\u001b[1;33m\u001b[0m\u001b[1;33m\u001b[0m\u001b[0m\n\u001b[1;32m-> 1233\u001b[1;33m                     \u001b[0mobject\u001b[0m\u001b[1;33m.\u001b[0m\u001b[0m__setattr__\u001b[0m\u001b[1;33m(\u001b[0m\u001b[0mself\u001b[0m\u001b[1;33m,\u001b[0m \u001b[0mname\u001b[0m\u001b[1;33m,\u001b[0m \u001b[0mvalue\u001b[0m\u001b[1;33m)\u001b[0m\u001b[1;33m\u001b[0m\u001b[1;33m\u001b[0m\u001b[0m\n\u001b[0m\u001b[0;32m   1234\u001b[0m \u001b[1;33m\u001b[0m\u001b[0m\n\u001b[0;32m   1235\u001b[0m     \u001b[1;32mdef\u001b[0m \u001b[0m__delattr__\u001b[0m\u001b[1;33m(\u001b[0m\u001b[0mself\u001b[0m\u001b[1;33m,\u001b[0m \u001b[0mname\u001b[0m\u001b[1;33m)\u001b[0m\u001b[1;33m:\u001b[0m\u001b[1;33m\u001b[0m\u001b[1;33m\u001b[0m\u001b[0m\n",
      "\u001b[1;31mAttributeError\u001b[0m: can't set attribute"
     ]
    }
   ],
   "source": [
    "import argparse\n",
    "args_dict = dict(\n",
    "    batch_size=4,\n",
    ")\n",
    "\n",
    "args = argparse.Namespace(**args_dict)\n",
    "\n",
    "\n",
    "model = T5FineTuner(args,t5_model,t5_tokenizer)\n",
    "\n",
    "trainer = pl.Trainer(max_epochs = 1, gpus=1,progress_bar_refresh_rate=30)\n",
    "\n",
    "trainer.fit(model)\n",
    "\n",
    "print (\"Saving model\")\n",
    "save_path_model = 't5/model/'\n",
    "save_path_tokenizer = 't5/tokenizer/'\n",
    "model.model.save_pretrained(save_path_model)\n",
    "t5_tokenizer.save_pretrained(save_path_tokenizer)"
   ]
  },
  {
   "cell_type": "code",
   "execution_count": null,
   "id": "b75a5d5d",
   "metadata": {},
   "outputs": [],
   "source": []
  },
  {
   "cell_type": "code",
   "execution_count": null,
   "id": "b3f91ca4",
   "metadata": {},
   "outputs": [],
   "source": []
  }
 ],
 "metadata": {
  "kernelspec": {
   "display_name": "Python 3 (ipykernel)",
   "language": "python",
   "name": "python3"
  },
  "language_info": {
   "codemirror_mode": {
    "name": "ipython",
    "version": 3
   },
   "file_extension": ".py",
   "mimetype": "text/x-python",
   "name": "python",
   "nbconvert_exporter": "python",
   "pygments_lexer": "ipython3",
   "version": "3.9.7"
  }
 },
 "nbformat": 4,
 "nbformat_minor": 5
}
